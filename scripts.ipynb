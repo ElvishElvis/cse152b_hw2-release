{
 "cells": [
  {
   "cell_type": "markdown",
   "metadata": {},
   "source": [
    "## scripts"
   ]
  },
  {
   "cell_type": "code",
   "execution_count": null,
   "metadata": {},
   "outputs": [],
   "source": [
    "conda create py36-hw2 python=3.6 pip\n",
    "conda activate py36-hw2\n",
    "pip install -r requirements.txt"
   ]
  },
  {
   "cell_type": "markdown",
   "metadata": {},
   "source": [
    "## A. Test sphereFace checkpoint"
   ]
  },
  {
   "cell_type": "code",
   "execution_count": null,
   "metadata": {},
   "outputs": [],
   "source": [
    "# conda activate py36-hw2\n",
    "cd sphereFace\n",
    "tar -zxf model.tar.gz\n",
    "# python lfw_eval.py --model ../model/sphere20a_20171020.pth --net faceNet_original --lfw /datasets/cse152-252-sp20-public/hw2/lfw/\n",
    "cp -r /datasets/cse152-252-sp20-public/hw2/model/ .\n",
    "python lfw_eval.py --model ./model/sphere20a_20171020.pth --net faceNet --lfw /datasets/cse152-252-sp20-public/hw2/lfw/"
   ]
  },
  {
   "cell_type": "markdown",
   "metadata": {},
   "source": [
    "LFWACC=0.9918 std=0.0051 thd=0.3095"
   ]
  },
  {
   "cell_type": "markdown",
   "metadata": {},
   "source": [
    "## B. MTCNN"
   ]
  },
  {
   "cell_type": "code",
   "execution_count": null,
   "metadata": {},
   "outputs": [],
   "source": [
    "# run to generate the landmark\n",
    "python lfw_landmark.py --lfw /datasets/cse152-252-sp20-public/hw2/lfw/\n",
    "# eval\n",
    "python lfw_eval.py --model ./model/sphere20a_20171020.pth --net faceNet --lfw /datasets/cse152-252-sp20-public/hw2/lfw/ --alignmentMode 2\n"
   ]
  },
  {
   "cell_type": "markdown",
   "metadata": {},
   "source": [
    "LFWACC=0.9845 std=0.0057 thd=0.2995"
   ]
  },
  {
   "cell_type": "markdown",
   "metadata": {},
   "source": [
    "## C. Train SphereFace"
   ]
  },
  {
   "cell_type": "markdown",
   "metadata": {},
   "source": [
    "## D. Train CosFace"
   ]
  },
  {
   "cell_type": "markdown",
   "metadata": {},
   "source": [
    "## Datasets"
   ]
  },
  {
   "cell_type": "markdown",
   "metadata": {},
   "source": [
    "- base_path: `/datasets/cse152-252-sp20-public/hw2/`,\n",
    "- sphereFace model: `/datasets/cse152-252-sp20-public/hw2/model`,\n",
    "- lfw dataset: `/datasets/cse152-252-sp20-public/hw2/lfw`,\n",
    "- CASIA-WebFace: `/datasets/cse152-252-sp20-public/hw2/CASIA-WebFace`,"
   ]
  },
  {
   "cell_type": "markdown",
   "metadata": {},
   "source": [
    "## References\n",
    "python -c 'import torch; print(torch.cuda.is_available())'\n",
    "How to test if installed torch is supported with CUDA - PyTorch Forums\n",
    "https://discuss.pytorch.org/t/how-to-test-if-installed-torch-is-supported-with-cuda/11164/12"
   ]
  },
  {
   "cell_type": "code",
   "execution_count": null,
   "metadata": {},
   "outputs": [],
   "source": []
  }
 ],
 "metadata": {
  "kernelspec": {
   "display_name": "Python 3",
   "language": "python",
   "name": "python3"
  },
  "language_info": {
   "codemirror_mode": {
    "name": "ipython",
    "version": 3
   },
   "file_extension": ".py",
   "mimetype": "text/x-python",
   "name": "python",
   "nbconvert_exporter": "python",
   "pygments_lexer": "ipython3",
   "version": "3.7.3"
  }
 },
 "nbformat": 4,
 "nbformat_minor": 2
}
